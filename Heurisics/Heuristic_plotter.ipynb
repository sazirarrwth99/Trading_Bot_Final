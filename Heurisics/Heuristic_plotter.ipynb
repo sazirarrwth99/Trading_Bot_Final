{
 "cells": [
  {
   "cell_type": "code",
   "execution_count": 2,
   "metadata": {},
   "outputs": [
    {
     "name": "stderr",
     "output_type": "stream",
     "text": [
      "C:\\Users\\Admin\\AppData\\Local\\Temp\\ipykernel_13712\\2435048501.py:10: FutureWarning: The pandas.datetime class is deprecated and will be removed from pandas in a future version. Import from datetime module instead.\n",
      "  from pandas import datetime\n"
     ]
    }
   ],
   "source": [
    "import pandas_datareader.data as web\n",
    "from datetime import datetime, timedelta\n",
    "import pandas as pd\n",
    "import matplotlib.pyplot as plt\n",
    "import statsmodels.api as sm\n",
    "import statsmodels.formula.api as smf\n",
    "import numpy as np\n",
    "import warnings\n",
    "import pandas as pd\n",
    "from pandas import datetime\n",
    "from datetime import timedelta\n",
    "import numpy as np\n",
    "import matplotlib.pyplot as plt\n",
    "from pandas.plotting import register_matplotlib_converters\n",
    "from statsmodels.graphics.tsaplots import plot_acf, plot_pacf\n",
    "from statsmodels.tsa.arima.model import ARIMA\n",
    "register_matplotlib_converters()\n",
    "from time import time\n",
    "warnings.filterwarnings(\"ignore\")\n",
    "from statsmodels.tsa.stattools import adfuller\n",
    "from statsmodels.tsa.stattools import pacf\n",
    "from datetime import date\n",
    "from datetime import datetime\n",
    "import yfinance as yf\n",
    "import plotly.graph_objects as go\n",
    "from random import *"
   ]
  },
  {
   "cell_type": "code",
   "execution_count": 3,
   "metadata": {},
   "outputs": [],
   "source": [
    "def get_data(asset, start, end):\n",
    "    ticker = asset\n",
    "    #data = web.DataReader(ticker, 'yahoo', start=start, end=end)\n",
    "    data = yf.download(ticker, start=start, end=end)\n",
    "\n",
    "    # calculate returns and format df\n",
    "    data[\"Returns\"] = 100 * data[\"Adj Close\"].pct_change()\n",
    "    data = data.dropna()\n",
    "    data[\"Date\"] = pd.to_datetime(data.index)\n",
    "\n",
    "    # slice data to 2012-2021\n",
    "    #data = data[data.Date > \"2021\"][data.Date < \"2022\"]\n",
    "    data.reset_index(drop=True,inplace=True)\n",
    "    return data"
   ]
  },
  {
   "cell_type": "code",
   "execution_count": 7,
   "metadata": {},
   "outputs": [
    {
     "name": "stdout",
     "output_type": "stream",
     "text": [
      "[*********************100%***********************]  1 of 1 completed\n",
      "          Open        High         Low       Close   Adj Close     Volume  \\\n",
      "0   133.520004  133.610001  126.760002  129.410004  127.874954  143301900   \n",
      "1   128.889999  131.740005  128.429993  131.009995  129.455978   97664900   \n",
      "2   127.720001  131.050003  126.379997  126.599998  125.098267  155088000   \n",
      "3   128.360001  131.630005  127.860001  130.919998  129.367035  109578200   \n",
      "4   132.429993  132.630005  130.229996  132.050003  130.483643  105158200   \n",
      "..         ...         ...         ...         ...         ...        ...   \n",
      "57  120.349998  121.480003  118.919998  121.209999  119.951195   94071200   \n",
      "58  121.650002  122.580002  120.730003  121.389999  120.129326   80819200   \n",
      "59  120.110001  120.400002  118.860001  119.900002  118.654793   85671900   \n",
      "60  121.650002  123.519997  121.150002  122.150002  120.881416  118323800   \n",
      "61  123.660004  124.180000  122.489998  123.000000  121.722603   75089100   \n",
      "\n",
      "     Returns       Date  \n",
      "0  -2.471924 2021-01-04  \n",
      "1   1.236383 2021-01-05  \n",
      "2  -3.366173 2021-01-06  \n",
      "3   3.412332 2021-01-07  \n",
      "4   0.863132 2021-01-08  \n",
      "..       ...        ...  \n",
      "57  0.514147 2021-03-26  \n",
      "58  0.148503 2021-03-29  \n",
      "59 -1.227455 2021-03-30  \n",
      "60  1.876556 2021-03-31  \n",
      "61  0.695877 2021-04-01  \n",
      "\n",
      "[62 rows x 8 columns]\n"
     ]
    },
    {
     "data": {
      "application/vnd.plotly.v1+json": {
       "config": {
        "plotlyServerURL": "https://plot.ly"
       },
       "data": [
        {
         "close": [
          129.41000366210938,
          131.00999450683594,
          126.5999984741211,
          130.9199981689453,
          132.0500030517578,
          128.97999572753906,
          128.8000030517578,
          130.88999938964844,
          128.91000366210938,
          127.13999938964844,
          127.83000183105469,
          132.02999877929688,
          136.8699951171875,
          139.07000732421875,
          142.9199981689453,
          143.16000366210938,
          142.05999755859375,
          137.08999633789062,
          131.9600067138672,
          134.13999938964844,
          134.99000549316406,
          133.94000244140625,
          137.38999938964844,
          136.75999450683594,
          136.91000366210938,
          136.00999450683594,
          135.38999938964844,
          135.1300048828125,
          135.3699951171875,
          133.19000244140625,
          130.83999633789062,
          129.7100067138672,
          129.8699951171875,
          126,
          125.86000061035156,
          125.3499984741211,
          120.98999786376953,
          121.26000213623047,
          127.79000091552734,
          125.12000274658203,
          122.05999755859375,
          120.12999725341797,
          121.41999816894531,
          116.36000061035156,
          121.08999633789062,
          119.9800033569336,
          121.95999908447266,
          121.02999877929688,
          123.98999786376953,
          125.56999969482422,
          124.76000213623047,
          120.52999877929688,
          119.98999786376953,
          123.38999938964844,
          122.54000091552734,
          120.08999633789062,
          120.58999633789062,
          121.20999908447266,
          121.38999938964844,
          119.9000015258789,
          122.1500015258789,
          123
         ],
         "high": [
          133.61000061035156,
          131.74000549316406,
          131.0500030517578,
          131.6300048828125,
          132.6300048828125,
          130.1699981689453,
          129.69000244140625,
          131.4499969482422,
          131,
          130.22000122070312,
          128.7100067138672,
          132.49000549316406,
          139.6699981689453,
          139.85000610351562,
          145.08999633789062,
          144.3000030517578,
          144.3000030517578,
          141.99000549316406,
          136.74000549316406,
          135.3800048828125,
          136.30999755859375,
          135.77000427246094,
          137.39999389648438,
          137.4199981689453,
          136.9600067138672,
          137.8800048828125,
          136.99000549316406,
          136.38999938964844,
          135.52999877929688,
          136.00999450683594,
          132.22000122070312,
          130,
          130.7100067138672,
          129.72000122070312,
          126.70999908447266,
          125.55999755859375,
          126.45999908447266,
          124.8499984741211,
          127.93000030517578,
          128.72000122070312,
          125.70999908447266,
          123.5999984741211,
          121.94000244140625,
          121,
          122.05999755859375,
          122.16999816894531,
          123.20999908447266,
          121.16999816894531,
          124,
          127.22000122070312,
          125.86000061035156,
          123.18000030517578,
          121.43000030517578,
          123.87000274658203,
          124.23999786376953,
          122.9000015258789,
          121.66000366210938,
          121.4800033569336,
          122.58000183105469,
          120.4000015258789,
          123.5199966430664,
          124.18000030517578
         ],
         "low": [
          126.76000213623047,
          128.42999267578125,
          126.37999725341797,
          127.86000061035156,
          130.22999572753906,
          128.5,
          126.86000061035156,
          128.49000549316406,
          128.75999450683594,
          127,
          126.94000244140625,
          128.5500030517578,
          133.58999633789062,
          135.02000427246094,
          136.5399932861328,
          141.3699951171875,
          140.41000366210938,
          136.6999969482422,
          130.2100067138672,
          130.92999267578125,
          134.61000061035156,
          133.61000061035156,
          134.58999633789062,
          135.86000061035156,
          134.9199981689453,
          135.85000610351562,
          134.39999389648438,
          133.77000427246094,
          133.69000244140625,
          132.7899932861328,
          129.47000122070312,
          127.41000366210938,
          128.8000030517578,
          125.5999984741211,
          118.38999938964844,
          122.2300033569336,
          120.54000091552734,
          121.19999694824219,
          122.79000091552734,
          125.01000213623047,
          121.83999633789062,
          118.62000274658203,
          117.56999969482422,
          116.20999908447266,
          118.79000091552734,
          119.44999694824219,
          121.26000213623047,
          119.16000366210938,
          120.41999816894531,
          124.72000122070312,
          122.33999633789062,
          120.31999969482422,
          119.68000030517578,
          120.26000213623047,
          122.13999938964844,
          120.06999969482422,
          119,
          118.91999816894531,
          120.7300033569336,
          118.86000061035156,
          121.1500015258789,
          122.48999786376953
         ],
         "open": [
          133.52000427246094,
          128.88999938964844,
          127.72000122070312,
          128.36000061035156,
          132.42999267578125,
          129.19000244140625,
          128.5,
          128.75999450683594,
          130.8000030517578,
          128.77999877929688,
          127.77999877929688,
          128.66000366210938,
          133.8000030517578,
          136.27999877929688,
          143.07000732421875,
          143.60000610351562,
          143.42999267578125,
          139.52000427246094,
          135.8300018310547,
          133.75,
          135.72999572753906,
          135.75999450683594,
          136.3000030517578,
          137.35000610351562,
          136.02999877929688,
          136.6199951171875,
          136.47999572753906,
          135.89999389648438,
          134.35000610351562,
          135.49000549316406,
          131.25,
          129.1999969482422,
          130.24000549316406,
          128.00999450683594,
          123.76000213623047,
          124.94000244140625,
          124.68000030517578,
          122.58999633789062,
          123.75,
          128.41000366210938,
          124.80999755859375,
          121.75,
          120.9800033569336,
          120.93000030517578,
          119.02999877929688,
          121.69000244140625,
          122.54000091552734,
          120.4000015258789,
          121.41000366210938,
          125.69999694824219,
          124.05000305175781,
          122.87999725341797,
          119.9000015258789,
          120.33000183105469,
          123.33000183105469,
          122.81999969482422,
          119.54000091552734,
          120.3499984741211,
          121.6500015258789,
          120.11000061035156,
          121.6500015258789,
          123.66000366210938
         ],
         "type": "candlestick",
         "x": [
          0,
          1,
          2,
          3,
          4,
          5,
          6,
          7,
          8,
          9,
          10,
          11,
          12,
          13,
          14,
          15,
          16,
          17,
          18,
          19,
          20,
          21,
          22,
          23,
          24,
          25,
          26,
          27,
          28,
          29,
          30,
          31,
          32,
          33,
          34,
          35,
          36,
          37,
          38,
          39,
          40,
          41,
          42,
          43,
          44,
          45,
          46,
          47,
          48,
          49,
          50,
          51,
          52,
          53,
          54,
          55,
          56,
          57,
          58,
          59,
          60,
          61
         ]
        }
       ],
       "layout": {
        "shapes": [
         {
          "line": {
           "color": "yellow",
           "dash": "dash",
           "width": 3
          },
          "type": "line",
          "x0": 0,
          "x1": 0,
          "xref": "x",
          "y0": 0,
          "y1": 1,
          "yref": "y domain"
         },
         {
          "line": {
           "color": "yellow",
           "dash": "dash",
           "width": 3
          },
          "type": "line",
          "x0": 1,
          "x1": 1,
          "xref": "x",
          "y0": 0,
          "y1": 1,
          "yref": "y domain"
         },
         {
          "line": {
           "color": "yellow",
           "dash": "dash",
           "width": 3
          },
          "type": "line",
          "x0": 2,
          "x1": 2,
          "xref": "x",
          "y0": 0,
          "y1": 1,
          "yref": "y domain"
         },
         {
          "line": {
           "color": "yellow",
           "dash": "dash",
           "width": 3
          },
          "type": "line",
          "x0": 3,
          "x1": 3,
          "xref": "x",
          "y0": 0,
          "y1": 1,
          "yref": "y domain"
         },
         {
          "line": {
           "color": "green",
           "dash": "dash",
           "width": 3
          },
          "type": "line",
          "x0": 4,
          "x1": 4,
          "xref": "x",
          "y0": 0,
          "y1": 1,
          "yref": "y domain"
         },
         {
          "line": {
           "color": "red",
           "dash": "dash",
           "width": 3
          },
          "type": "line",
          "x0": 6,
          "x1": 6,
          "xref": "x",
          "y0": 0,
          "y1": 1,
          "yref": "y domain"
         },
         {
          "line": {
           "color": "yellow",
           "dash": "dash",
           "width": 3
          },
          "type": "line",
          "x0": 7,
          "x1": 7,
          "xref": "x",
          "y0": 0,
          "y1": 1,
          "yref": "y domain"
         },
         {
          "line": {
           "color": "green",
           "dash": "dash",
           "width": 3
          },
          "type": "line",
          "x0": 8,
          "x1": 8,
          "xref": "x",
          "y0": 0,
          "y1": 1,
          "yref": "y domain"
         },
         {
          "line": {
           "color": "red",
           "dash": "dash",
           "width": 3
          },
          "type": "line",
          "x0": 10,
          "x1": 10,
          "xref": "x",
          "y0": 0,
          "y1": 1,
          "yref": "y domain"
         },
         {
          "line": {
           "color": "yellow",
           "dash": "dash",
           "width": 3
          },
          "type": "line",
          "x0": 11,
          "x1": 11,
          "xref": "x",
          "y0": 0,
          "y1": 1,
          "yref": "y domain"
         },
         {
          "line": {
           "color": "green",
           "dash": "dash",
           "width": 3
          },
          "type": "line",
          "x0": 12,
          "x1": 12,
          "xref": "x",
          "y0": 0,
          "y1": 1,
          "yref": "y domain"
         },
         {
          "line": {
           "color": "red",
           "dash": "dash",
           "width": 3
          },
          "type": "line",
          "x0": 17,
          "x1": 17,
          "xref": "x",
          "y0": 0,
          "y1": 1,
          "yref": "y domain"
         },
         {
          "line": {
           "color": "yellow",
           "dash": "dash",
           "width": 3
          },
          "type": "line",
          "x0": 18,
          "x1": 18,
          "xref": "x",
          "y0": 0,
          "y1": 1,
          "yref": "y domain"
         },
         {
          "line": {
           "color": "yellow",
           "dash": "dash",
           "width": 3
          },
          "type": "line",
          "x0": 19,
          "x1": 19,
          "xref": "x",
          "y0": 0,
          "y1": 1,
          "yref": "y domain"
         },
         {
          "line": {
           "color": "yellow",
           "dash": "dash",
           "width": 3
          },
          "type": "line",
          "x0": 20,
          "x1": 20,
          "xref": "x",
          "y0": 0,
          "y1": 1,
          "yref": "y domain"
         },
         {
          "line": {
           "color": "green",
           "dash": "dash",
           "width": 3
          },
          "type": "line",
          "x0": 21,
          "x1": 21,
          "xref": "x",
          "y0": 0,
          "y1": 1,
          "yref": "y domain"
         },
         {
          "line": {
           "color": "red",
           "dash": "dash",
           "width": 3
          },
          "type": "line",
          "x0": 22,
          "x1": 22,
          "xref": "x",
          "y0": 0,
          "y1": 1,
          "yref": "y domain"
         },
         {
          "line": {
           "color": "green",
           "dash": "dash",
           "width": 3
          },
          "type": "line",
          "x0": 23,
          "x1": 23,
          "xref": "x",
          "y0": 0,
          "y1": 1,
          "yref": "y domain"
         },
         {
          "line": {
           "color": "red",
           "dash": "dash",
           "width": 3
          },
          "type": "line",
          "x0": 25,
          "x1": 25,
          "xref": "x",
          "y0": 0,
          "y1": 1,
          "yref": "y domain"
         },
         {
          "line": {
           "color": "yellow",
           "dash": "dash",
           "width": 3
          },
          "type": "line",
          "x0": 26,
          "x1": 26,
          "xref": "x",
          "y0": 0,
          "y1": 1,
          "yref": "y domain"
         },
         {
          "line": {
           "color": "yellow",
           "dash": "dash",
           "width": 3
          },
          "type": "line",
          "x0": 27,
          "x1": 27,
          "xref": "x",
          "y0": 0,
          "y1": 1,
          "yref": "y domain"
         },
         {
          "line": {
           "color": "yellow",
           "dash": "dash",
           "width": 3
          },
          "type": "line",
          "x0": 28,
          "x1": 28,
          "xref": "x",
          "y0": 0,
          "y1": 1,
          "yref": "y domain"
         },
         {
          "line": {
           "color": "yellow",
           "dash": "dash",
           "width": 3
          },
          "type": "line",
          "x0": 29,
          "x1": 29,
          "xref": "x",
          "y0": 0,
          "y1": 1,
          "yref": "y domain"
         },
         {
          "line": {
           "color": "yellow",
           "dash": "dash",
           "width": 3
          },
          "type": "line",
          "x0": 30,
          "x1": 30,
          "xref": "x",
          "y0": 0,
          "y1": 1,
          "yref": "y domain"
         },
         {
          "line": {
           "color": "yellow",
           "dash": "dash",
           "width": 3
          },
          "type": "line",
          "x0": 31,
          "x1": 31,
          "xref": "x",
          "y0": 0,
          "y1": 1,
          "yref": "y domain"
         },
         {
          "line": {
           "color": "yellow",
           "dash": "dash",
           "width": 3
          },
          "type": "line",
          "x0": 32,
          "x1": 32,
          "xref": "x",
          "y0": 0,
          "y1": 1,
          "yref": "y domain"
         },
         {
          "line": {
           "color": "yellow",
           "dash": "dash",
           "width": 3
          },
          "type": "line",
          "x0": 33,
          "x1": 33,
          "xref": "x",
          "y0": 0,
          "y1": 1,
          "yref": "y domain"
         },
         {
          "line": {
           "color": "yellow",
           "dash": "dash",
           "width": 3
          },
          "type": "line",
          "x0": 34,
          "x1": 34,
          "xref": "x",
          "y0": 0,
          "y1": 1,
          "yref": "y domain"
         },
         {
          "line": {
           "color": "yellow",
           "dash": "dash",
           "width": 3
          },
          "type": "line",
          "x0": 35,
          "x1": 35,
          "xref": "x",
          "y0": 0,
          "y1": 1,
          "yref": "y domain"
         },
         {
          "line": {
           "color": "yellow",
           "dash": "dash",
           "width": 3
          },
          "type": "line",
          "x0": 36,
          "x1": 36,
          "xref": "x",
          "y0": 0,
          "y1": 1,
          "yref": "y domain"
         },
         {
          "line": {
           "color": "yellow",
           "dash": "dash",
           "width": 3
          },
          "type": "line",
          "x0": 37,
          "x1": 37,
          "xref": "x",
          "y0": 0,
          "y1": 1,
          "yref": "y domain"
         },
         {
          "line": {
           "color": "yellow",
           "dash": "dash",
           "width": 3
          },
          "type": "line",
          "x0": 38,
          "x1": 38,
          "xref": "x",
          "y0": 0,
          "y1": 1,
          "yref": "y domain"
         },
         {
          "line": {
           "color": "green",
           "dash": "dash",
           "width": 3
          },
          "type": "line",
          "x0": 39,
          "x1": 39,
          "xref": "x",
          "y0": 0,
          "y1": 1,
          "yref": "y domain"
         },
         {
          "line": {
           "color": "red",
           "dash": "dash",
           "width": 3
          },
          "type": "line",
          "x0": 41,
          "x1": 41,
          "xref": "x",
          "y0": 0,
          "y1": 1,
          "yref": "y domain"
         },
         {
          "line": {
           "color": "yellow",
           "dash": "dash",
           "width": 3
          },
          "type": "line",
          "x0": 42,
          "x1": 42,
          "xref": "x",
          "y0": 0,
          "y1": 1,
          "yref": "y domain"
         },
         {
          "line": {
           "color": "yellow",
           "dash": "dash",
           "width": 3
          },
          "type": "line",
          "x0": 43,
          "x1": 43,
          "xref": "x",
          "y0": 0,
          "y1": 1,
          "yref": "y domain"
         },
         {
          "line": {
           "color": "yellow",
           "dash": "dash",
           "width": 3
          },
          "type": "line",
          "x0": 44,
          "x1": 44,
          "xref": "x",
          "y0": 0,
          "y1": 1,
          "yref": "y domain"
         },
         {
          "line": {
           "color": "yellow",
           "dash": "dash",
           "width": 3
          },
          "type": "line",
          "x0": 45,
          "x1": 45,
          "xref": "x",
          "y0": 0,
          "y1": 1,
          "yref": "y domain"
         },
         {
          "line": {
           "color": "green",
           "dash": "dash",
           "width": 3
          },
          "type": "line",
          "x0": 46,
          "x1": 46,
          "xref": "x",
          "y0": 0,
          "y1": 1,
          "yref": "y domain"
         },
         {
          "line": {
           "color": "red",
           "dash": "dash",
           "width": 3
          },
          "type": "line",
          "x0": 52,
          "x1": 52,
          "xref": "x",
          "y0": 0,
          "y1": 1,
          "yref": "y domain"
         },
         {
          "line": {
           "color": "yellow",
           "dash": "dash",
           "width": 3
          },
          "type": "line",
          "x0": 53,
          "x1": 53,
          "xref": "x",
          "y0": 0,
          "y1": 1,
          "yref": "y domain"
         },
         {
          "line": {
           "color": "green",
           "dash": "dash",
           "width": 3
          },
          "type": "line",
          "x0": 54,
          "x1": 54,
          "xref": "x",
          "y0": 0,
          "y1": 1,
          "yref": "y domain"
         },
         {
          "line": {
           "color": "red",
           "dash": "dash",
           "width": 3
          },
          "type": "line",
          "x0": 56,
          "x1": 56,
          "xref": "x",
          "y0": 0,
          "y1": 1,
          "yref": "y domain"
         },
         {
          "line": {
           "color": "yellow",
           "dash": "dash",
           "width": 3
          },
          "type": "line",
          "x0": 57,
          "x1": 57,
          "xref": "x",
          "y0": 0,
          "y1": 1,
          "yref": "y domain"
         },
         {
          "line": {
           "color": "green",
           "dash": "dash",
           "width": 3
          },
          "type": "line",
          "x0": 58,
          "x1": 58,
          "xref": "x",
          "y0": 0,
          "y1": 1,
          "yref": "y domain"
         },
         {
          "line": {
           "color": "red",
           "dash": "dash",
           "width": 3
          },
          "type": "line",
          "x0": 60,
          "x1": 60,
          "xref": "x",
          "y0": 0,
          "y1": 1,
          "yref": "y domain"
         },
         {
          "line": {
           "color": "green",
           "dash": "dash",
           "width": 3
          },
          "type": "line",
          "x0": 61,
          "x1": 61,
          "xref": "x",
          "y0": 0,
          "y1": 1,
          "yref": "y domain"
         }
        ],
        "template": {
         "data": {
          "bar": [
           {
            "error_x": {
             "color": "#2a3f5f"
            },
            "error_y": {
             "color": "#2a3f5f"
            },
            "marker": {
             "line": {
              "color": "#E5ECF6",
              "width": 0.5
             },
             "pattern": {
              "fillmode": "overlay",
              "size": 10,
              "solidity": 0.2
             }
            },
            "type": "bar"
           }
          ],
          "barpolar": [
           {
            "marker": {
             "line": {
              "color": "#E5ECF6",
              "width": 0.5
             },
             "pattern": {
              "fillmode": "overlay",
              "size": 10,
              "solidity": 0.2
             }
            },
            "type": "barpolar"
           }
          ],
          "carpet": [
           {
            "aaxis": {
             "endlinecolor": "#2a3f5f",
             "gridcolor": "white",
             "linecolor": "white",
             "minorgridcolor": "white",
             "startlinecolor": "#2a3f5f"
            },
            "baxis": {
             "endlinecolor": "#2a3f5f",
             "gridcolor": "white",
             "linecolor": "white",
             "minorgridcolor": "white",
             "startlinecolor": "#2a3f5f"
            },
            "type": "carpet"
           }
          ],
          "choropleth": [
           {
            "colorbar": {
             "outlinewidth": 0,
             "ticks": ""
            },
            "type": "choropleth"
           }
          ],
          "contour": [
           {
            "colorbar": {
             "outlinewidth": 0,
             "ticks": ""
            },
            "colorscale": [
             [
              0,
              "#0d0887"
             ],
             [
              0.1111111111111111,
              "#46039f"
             ],
             [
              0.2222222222222222,
              "#7201a8"
             ],
             [
              0.3333333333333333,
              "#9c179e"
             ],
             [
              0.4444444444444444,
              "#bd3786"
             ],
             [
              0.5555555555555556,
              "#d8576b"
             ],
             [
              0.6666666666666666,
              "#ed7953"
             ],
             [
              0.7777777777777778,
              "#fb9f3a"
             ],
             [
              0.8888888888888888,
              "#fdca26"
             ],
             [
              1,
              "#f0f921"
             ]
            ],
            "type": "contour"
           }
          ],
          "contourcarpet": [
           {
            "colorbar": {
             "outlinewidth": 0,
             "ticks": ""
            },
            "type": "contourcarpet"
           }
          ],
          "heatmap": [
           {
            "colorbar": {
             "outlinewidth": 0,
             "ticks": ""
            },
            "colorscale": [
             [
              0,
              "#0d0887"
             ],
             [
              0.1111111111111111,
              "#46039f"
             ],
             [
              0.2222222222222222,
              "#7201a8"
             ],
             [
              0.3333333333333333,
              "#9c179e"
             ],
             [
              0.4444444444444444,
              "#bd3786"
             ],
             [
              0.5555555555555556,
              "#d8576b"
             ],
             [
              0.6666666666666666,
              "#ed7953"
             ],
             [
              0.7777777777777778,
              "#fb9f3a"
             ],
             [
              0.8888888888888888,
              "#fdca26"
             ],
             [
              1,
              "#f0f921"
             ]
            ],
            "type": "heatmap"
           }
          ],
          "heatmapgl": [
           {
            "colorbar": {
             "outlinewidth": 0,
             "ticks": ""
            },
            "colorscale": [
             [
              0,
              "#0d0887"
             ],
             [
              0.1111111111111111,
              "#46039f"
             ],
             [
              0.2222222222222222,
              "#7201a8"
             ],
             [
              0.3333333333333333,
              "#9c179e"
             ],
             [
              0.4444444444444444,
              "#bd3786"
             ],
             [
              0.5555555555555556,
              "#d8576b"
             ],
             [
              0.6666666666666666,
              "#ed7953"
             ],
             [
              0.7777777777777778,
              "#fb9f3a"
             ],
             [
              0.8888888888888888,
              "#fdca26"
             ],
             [
              1,
              "#f0f921"
             ]
            ],
            "type": "heatmapgl"
           }
          ],
          "histogram": [
           {
            "marker": {
             "pattern": {
              "fillmode": "overlay",
              "size": 10,
              "solidity": 0.2
             }
            },
            "type": "histogram"
           }
          ],
          "histogram2d": [
           {
            "colorbar": {
             "outlinewidth": 0,
             "ticks": ""
            },
            "colorscale": [
             [
              0,
              "#0d0887"
             ],
             [
              0.1111111111111111,
              "#46039f"
             ],
             [
              0.2222222222222222,
              "#7201a8"
             ],
             [
              0.3333333333333333,
              "#9c179e"
             ],
             [
              0.4444444444444444,
              "#bd3786"
             ],
             [
              0.5555555555555556,
              "#d8576b"
             ],
             [
              0.6666666666666666,
              "#ed7953"
             ],
             [
              0.7777777777777778,
              "#fb9f3a"
             ],
             [
              0.8888888888888888,
              "#fdca26"
             ],
             [
              1,
              "#f0f921"
             ]
            ],
            "type": "histogram2d"
           }
          ],
          "histogram2dcontour": [
           {
            "colorbar": {
             "outlinewidth": 0,
             "ticks": ""
            },
            "colorscale": [
             [
              0,
              "#0d0887"
             ],
             [
              0.1111111111111111,
              "#46039f"
             ],
             [
              0.2222222222222222,
              "#7201a8"
             ],
             [
              0.3333333333333333,
              "#9c179e"
             ],
             [
              0.4444444444444444,
              "#bd3786"
             ],
             [
              0.5555555555555556,
              "#d8576b"
             ],
             [
              0.6666666666666666,
              "#ed7953"
             ],
             [
              0.7777777777777778,
              "#fb9f3a"
             ],
             [
              0.8888888888888888,
              "#fdca26"
             ],
             [
              1,
              "#f0f921"
             ]
            ],
            "type": "histogram2dcontour"
           }
          ],
          "mesh3d": [
           {
            "colorbar": {
             "outlinewidth": 0,
             "ticks": ""
            },
            "type": "mesh3d"
           }
          ],
          "parcoords": [
           {
            "line": {
             "colorbar": {
              "outlinewidth": 0,
              "ticks": ""
             }
            },
            "type": "parcoords"
           }
          ],
          "pie": [
           {
            "automargin": true,
            "type": "pie"
           }
          ],
          "scatter": [
           {
            "fillpattern": {
             "fillmode": "overlay",
             "size": 10,
             "solidity": 0.2
            },
            "type": "scatter"
           }
          ],
          "scatter3d": [
           {
            "line": {
             "colorbar": {
              "outlinewidth": 0,
              "ticks": ""
             }
            },
            "marker": {
             "colorbar": {
              "outlinewidth": 0,
              "ticks": ""
             }
            },
            "type": "scatter3d"
           }
          ],
          "scattercarpet": [
           {
            "marker": {
             "colorbar": {
              "outlinewidth": 0,
              "ticks": ""
             }
            },
            "type": "scattercarpet"
           }
          ],
          "scattergeo": [
           {
            "marker": {
             "colorbar": {
              "outlinewidth": 0,
              "ticks": ""
             }
            },
            "type": "scattergeo"
           }
          ],
          "scattergl": [
           {
            "marker": {
             "colorbar": {
              "outlinewidth": 0,
              "ticks": ""
             }
            },
            "type": "scattergl"
           }
          ],
          "scattermapbox": [
           {
            "marker": {
             "colorbar": {
              "outlinewidth": 0,
              "ticks": ""
             }
            },
            "type": "scattermapbox"
           }
          ],
          "scatterpolar": [
           {
            "marker": {
             "colorbar": {
              "outlinewidth": 0,
              "ticks": ""
             }
            },
            "type": "scatterpolar"
           }
          ],
          "scatterpolargl": [
           {
            "marker": {
             "colorbar": {
              "outlinewidth": 0,
              "ticks": ""
             }
            },
            "type": "scatterpolargl"
           }
          ],
          "scatterternary": [
           {
            "marker": {
             "colorbar": {
              "outlinewidth": 0,
              "ticks": ""
             }
            },
            "type": "scatterternary"
           }
          ],
          "surface": [
           {
            "colorbar": {
             "outlinewidth": 0,
             "ticks": ""
            },
            "colorscale": [
             [
              0,
              "#0d0887"
             ],
             [
              0.1111111111111111,
              "#46039f"
             ],
             [
              0.2222222222222222,
              "#7201a8"
             ],
             [
              0.3333333333333333,
              "#9c179e"
             ],
             [
              0.4444444444444444,
              "#bd3786"
             ],
             [
              0.5555555555555556,
              "#d8576b"
             ],
             [
              0.6666666666666666,
              "#ed7953"
             ],
             [
              0.7777777777777778,
              "#fb9f3a"
             ],
             [
              0.8888888888888888,
              "#fdca26"
             ],
             [
              1,
              "#f0f921"
             ]
            ],
            "type": "surface"
           }
          ],
          "table": [
           {
            "cells": {
             "fill": {
              "color": "#EBF0F8"
             },
             "line": {
              "color": "white"
             }
            },
            "header": {
             "fill": {
              "color": "#C8D4E3"
             },
             "line": {
              "color": "white"
             }
            },
            "type": "table"
           }
          ]
         },
         "layout": {
          "annotationdefaults": {
           "arrowcolor": "#2a3f5f",
           "arrowhead": 0,
           "arrowwidth": 1
          },
          "autotypenumbers": "strict",
          "coloraxis": {
           "colorbar": {
            "outlinewidth": 0,
            "ticks": ""
           }
          },
          "colorscale": {
           "diverging": [
            [
             0,
             "#8e0152"
            ],
            [
             0.1,
             "#c51b7d"
            ],
            [
             0.2,
             "#de77ae"
            ],
            [
             0.3,
             "#f1b6da"
            ],
            [
             0.4,
             "#fde0ef"
            ],
            [
             0.5,
             "#f7f7f7"
            ],
            [
             0.6,
             "#e6f5d0"
            ],
            [
             0.7,
             "#b8e186"
            ],
            [
             0.8,
             "#7fbc41"
            ],
            [
             0.9,
             "#4d9221"
            ],
            [
             1,
             "#276419"
            ]
           ],
           "sequential": [
            [
             0,
             "#0d0887"
            ],
            [
             0.1111111111111111,
             "#46039f"
            ],
            [
             0.2222222222222222,
             "#7201a8"
            ],
            [
             0.3333333333333333,
             "#9c179e"
            ],
            [
             0.4444444444444444,
             "#bd3786"
            ],
            [
             0.5555555555555556,
             "#d8576b"
            ],
            [
             0.6666666666666666,
             "#ed7953"
            ],
            [
             0.7777777777777778,
             "#fb9f3a"
            ],
            [
             0.8888888888888888,
             "#fdca26"
            ],
            [
             1,
             "#f0f921"
            ]
           ],
           "sequentialminus": [
            [
             0,
             "#0d0887"
            ],
            [
             0.1111111111111111,
             "#46039f"
            ],
            [
             0.2222222222222222,
             "#7201a8"
            ],
            [
             0.3333333333333333,
             "#9c179e"
            ],
            [
             0.4444444444444444,
             "#bd3786"
            ],
            [
             0.5555555555555556,
             "#d8576b"
            ],
            [
             0.6666666666666666,
             "#ed7953"
            ],
            [
             0.7777777777777778,
             "#fb9f3a"
            ],
            [
             0.8888888888888888,
             "#fdca26"
            ],
            [
             1,
             "#f0f921"
            ]
           ]
          },
          "colorway": [
           "#636efa",
           "#EF553B",
           "#00cc96",
           "#ab63fa",
           "#FFA15A",
           "#19d3f3",
           "#FF6692",
           "#B6E880",
           "#FF97FF",
           "#FECB52"
          ],
          "font": {
           "color": "#2a3f5f"
          },
          "geo": {
           "bgcolor": "white",
           "lakecolor": "white",
           "landcolor": "#E5ECF6",
           "showlakes": true,
           "showland": true,
           "subunitcolor": "white"
          },
          "hoverlabel": {
           "align": "left"
          },
          "hovermode": "closest",
          "mapbox": {
           "style": "light"
          },
          "paper_bgcolor": "white",
          "plot_bgcolor": "#E5ECF6",
          "polar": {
           "angularaxis": {
            "gridcolor": "white",
            "linecolor": "white",
            "ticks": ""
           },
           "bgcolor": "#E5ECF6",
           "radialaxis": {
            "gridcolor": "white",
            "linecolor": "white",
            "ticks": ""
           }
          },
          "scene": {
           "xaxis": {
            "backgroundcolor": "#E5ECF6",
            "gridcolor": "white",
            "gridwidth": 2,
            "linecolor": "white",
            "showbackground": true,
            "ticks": "",
            "zerolinecolor": "white"
           },
           "yaxis": {
            "backgroundcolor": "#E5ECF6",
            "gridcolor": "white",
            "gridwidth": 2,
            "linecolor": "white",
            "showbackground": true,
            "ticks": "",
            "zerolinecolor": "white"
           },
           "zaxis": {
            "backgroundcolor": "#E5ECF6",
            "gridcolor": "white",
            "gridwidth": 2,
            "linecolor": "white",
            "showbackground": true,
            "ticks": "",
            "zerolinecolor": "white"
           }
          },
          "shapedefaults": {
           "line": {
            "color": "#2a3f5f"
           }
          },
          "ternary": {
           "aaxis": {
            "gridcolor": "white",
            "linecolor": "white",
            "ticks": ""
           },
           "baxis": {
            "gridcolor": "white",
            "linecolor": "white",
            "ticks": ""
           },
           "bgcolor": "#E5ECF6",
           "caxis": {
            "gridcolor": "white",
            "linecolor": "white",
            "ticks": ""
           }
          },
          "title": {
           "x": 0.05
          },
          "xaxis": {
           "automargin": true,
           "gridcolor": "white",
           "linecolor": "white",
           "ticks": "",
           "title": {
            "standoff": 15
           },
           "zerolinecolor": "white",
           "zerolinewidth": 2
          },
          "yaxis": {
           "automargin": true,
           "gridcolor": "white",
           "linecolor": "white",
           "ticks": "",
           "title": {
            "standoff": 15
           },
           "zerolinecolor": "white",
           "zerolinewidth": 2
          }
         }
        },
        "title": {
         "text": "TRADING ALGO - BUY/SELL RECOMMENDATIONS - ['AAPL']"
        },
        "xaxis": {
         "rangeslider": {
          "visible": false
         },
         "type": "category"
        }
       }
      }
     },
     "metadata": {},
     "output_type": "display_data"
    }
   ],
   "source": [
    "\n",
    "stock = [\"AAPL\"]\n",
    "all_actions = [['SHORT'], ['SHORT'], ['SHORT'], ['SHORT'], ['BUY'], ['HOLD'], ['SELL'], ['SHORT'], ['BUY'], ['HOLD'], ['SELL'], ['SHORT'], ['BUY'], ['HOLD'], ['HOLD'], ['HOLD'], ['HOLD'], ['SELL'], ['SHORT'], ['SHORT'], ['SHORT'], ['BUY'], ['SELL'], ['BUY'], ['HOLD'], ['SELL'], ['SHORT'], ['SHORT'], ['SHORT'], ['SHORT'], ['SHORT'], ['SHORT'], ['SHORT'], ['SHORT'], ['SHORT'], ['SHORT'], ['SHORT'], ['SHORT'], ['SHORT'], ['BUY'], ['HOLD'], ['SELL'], ['SHORT'], ['SHORT'], ['SHORT'], ['SHORT'], ['BUY'], ['HOLD'], ['HOLD'], ['HOLD'], ['HOLD'], ['HOLD'], ['SELL'], ['SHORT'], ['BUY'], ['HOLD'], ['SELL'], ['SHORT'], ['BUY'], ['HOLD'], ['SELL'], ['BUY']]\n",
    "\n",
    "start = datetime(2020, 12, 31)\n",
    "start = start.date()\n",
    "end = datetime(2021, 4, 1) \n",
    "end = end.date()\n",
    "\n",
    "data =get_data(stock, start, end+timedelta(days=1))\n",
    "print(data)\n",
    "data[\"Action\"] = all_actions\n",
    "candlestick = go.Candlestick(x=data.index, \n",
    "                            open=data['Open'],  \n",
    "                            high=data['High'], \n",
    "                            low=data['Low'], \n",
    "                            close=data['Close'])\n",
    "\n",
    "fig = go.Figure(data=[candlestick],\n",
    "                layout=go.Layout(title=go.layout.Title(text=f\"TRADING ALGO - BUY/SELL RECOMMENDATIONS - {stock}\")))\n",
    "fig.layout.xaxis.type = 'category' \n",
    "fig.layout.xaxis.rangeslider.visible = False\n",
    "\n",
    "for index, row in data.iterrows(): \n",
    "        \n",
    "        if (row[\"Action\"][0] != 'HOLD'):\n",
    "            if (row[\"Action\"][0] == 'BUY'):\n",
    "                line_colour = 'green'\n",
    "            elif (row[\"Action\"][0] == 'SHORT'):\n",
    "                line_colour = 'yellow'\n",
    "            else:\n",
    "                line_colour = 'red'\n",
    "            fig.add_vline(x=row.name, line_width=3, line_dash=\"dash\", line_color=line_colour)\n",
    "\n",
    "            \n",
    "fig.show()"
   ]
  }
 ],
 "metadata": {
  "kernelspec": {
   "display_name": "Python 3.9.7 ('base')",
   "language": "python",
   "name": "python3"
  },
  "language_info": {
   "codemirror_mode": {
    "name": "ipython",
    "version": 3
   },
   "file_extension": ".py",
   "mimetype": "text/x-python",
   "name": "python",
   "nbconvert_exporter": "python",
   "pygments_lexer": "ipython3",
   "version": "3.9.7 (default, Sep 16 2021, 16:59:28) [MSC v.1916 64 bit (AMD64)]"
  },
  "orig_nbformat": 4,
  "vscode": {
   "interpreter": {
    "hash": "bd97b8bffa4d3737e84826bc3d37be3046061822757ce35137ab82ad4c5a2016"
   }
  }
 },
 "nbformat": 4,
 "nbformat_minor": 2
}
